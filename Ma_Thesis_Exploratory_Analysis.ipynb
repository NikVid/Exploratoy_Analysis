{
 "cells": [
  {
   "cell_type": "markdown",
   "id": "ad9a4252",
   "metadata": {},
   "source": [
    "# Ma Thesis, A Data Science Pipeline for Exploring YouTube as a History Teacher, 01.08.2022"
   ]
  },
  {
   "cell_type": "markdown",
   "id": "ebf6019f",
   "metadata": {},
   "source": [
    "### Author: Nika Vidic"
   ]
  },
  {
   "cell_type": "markdown",
   "id": "7f1435a0",
   "metadata": {},
   "source": [
    "### Date: 01.08.2022"
   ]
  },
  {
   "cell_type": "markdown",
   "id": "a8ac5899",
   "metadata": {},
   "source": [
    "## Exploratory Analysis"
   ]
  },
  {
   "cell_type": "code",
   "execution_count": 1,
   "id": "e35fa762",
   "metadata": {},
   "outputs": [],
   "source": [
    "#Importing the necessary Python libraries.\n",
    "\n",
    "import pandas as pd"
   ]
  },
  {
   "cell_type": "code",
   "execution_count": 2,
   "id": "c50f316f",
   "metadata": {},
   "outputs": [],
   "source": [
    "#Reading the dataset in XLSX.\n",
    "\n",
    "YouTube_History_Videos = pd.read_excel(r\"C:\\Users\\thoma\\Documents\\AllThesisFiles\\Exploratory_Analysis\\Version2All_YouTube_Data_Version (1).xlsx\")\n",
    "\n",
    "data = pd.DataFrame(YouTube_History_Videos, columns=[\"Channel\", \"Thumbnail\",\"Video Title\", \"Video URL\", \"Video Description\",\"Channel Description\",\"Subscribers\", \"Country\", \"Date of Publishing\", \"Views\", \"Likes\", \"Duration\", \"Language\", \"Topic\", \"Category Id\",\"Tags\"])"
   ]
  },
  {
   "cell_type": "code",
   "execution_count": 3,
   "id": "31170cc1",
   "metadata": {},
   "outputs": [
    {
     "data": {
      "text/html": [
       "<div>\n",
       "<style scoped>\n",
       "    .dataframe tbody tr th:only-of-type {\n",
       "        vertical-align: middle;\n",
       "    }\n",
       "\n",
       "    .dataframe tbody tr th {\n",
       "        vertical-align: top;\n",
       "    }\n",
       "\n",
       "    .dataframe thead th {\n",
       "        text-align: right;\n",
       "    }\n",
       "</style>\n",
       "<table border=\"1\" class=\"dataframe\">\n",
       "  <thead>\n",
       "    <tr style=\"text-align: right;\">\n",
       "      <th></th>\n",
       "      <th>Channel</th>\n",
       "      <th>Thumbnail</th>\n",
       "      <th>Video Title</th>\n",
       "      <th>Video URL</th>\n",
       "      <th>Video Description</th>\n",
       "      <th>Channel Description</th>\n",
       "      <th>Subscribers</th>\n",
       "      <th>Country</th>\n",
       "      <th>Date of Publishing</th>\n",
       "      <th>Views</th>\n",
       "      <th>Likes</th>\n",
       "      <th>Duration</th>\n",
       "      <th>Language</th>\n",
       "      <th>Topic</th>\n",
       "      <th>Category Id</th>\n",
       "      <th>Tags</th>\n",
       "    </tr>\n",
       "  </thead>\n",
       "  <tbody>\n",
       "    <tr>\n",
       "      <th>0</th>\n",
       "      <td>12jul TV</td>\n",
       "      <td>https://i.ytimg.com/vi/fK4HH8Hrk8U/hqdefault.jpg</td>\n",
       "      <td>(2.Dünya Savaşı)Yugoslavya'nın İşgali(Harita)</td>\n",
       "      <td>https://www.youtube.com/watch?v=fK4HH8Hrk8U</td>\n",
       "      <td>(2.Dünya Savaşı)Yugoslavya'nın İşgali(Harita)\\...</td>\n",
       "      <td>Araştırmalara dayalı, çeşitli kaynaklardan bes...</td>\n",
       "      <td>24500</td>\n",
       "      <td>TR</td>\n",
       "      <td>2016-03-12</td>\n",
       "      <td>14602</td>\n",
       "      <td>162</td>\n",
       "      <td>PT1M16S</td>\n",
       "      <td>tr</td>\n",
       "      <td>https://en.wikipedia.org/wiki/Society</td>\n",
       "      <td>27</td>\n",
       "      <td>Yugoslavya Cephesi,Yugoslavya`nın dağılması,Yu...</td>\n",
       "    </tr>\n",
       "    <tr>\n",
       "      <th>1</th>\n",
       "      <td>Anjobi Videoarchiv</td>\n",
       "      <td>https://i.ytimg.com/vi/-WNQ-gale34/hqdefault.jpg</td>\n",
       "      <td>2021-06-25 16_Friedrich Orter über den Jugosla...</td>\n",
       "      <td>https://www.youtube.com/watch?v=-WNQ-gale34</td>\n",
       "      <td>Teil der Playlist: https://youtube.com/playlis...</td>\n",
       "      <td>Videoinhalte zu Politik &amp; Wahlen.\\nDie Nationa...</td>\n",
       "      <td>4040</td>\n",
       "      <td>AT</td>\n",
       "      <td>2021-06-28</td>\n",
       "      <td>226</td>\n",
       "      <td>2</td>\n",
       "      <td>PT7M56S</td>\n",
       "      <td>de</td>\n",
       "      <td>https://en.wikipedia.org/wiki/Society</td>\n",
       "      <td>25</td>\n",
       "      <td>undefined</td>\n",
       "    </tr>\n",
       "    <tr>\n",
       "      <th>2</th>\n",
       "      <td>Paolo Favarin</td>\n",
       "      <td>https://i.ytimg.com/vi/yw2NnMu2qR0/hqdefault.jpg</td>\n",
       "      <td>24 marzo 1999 la nato bombarda la Jugoslavia</td>\n",
       "      <td>https://www.youtube.com/watch?v=yw2NnMu2qR0</td>\n",
       "      <td>La Nato inizia i bombardamenti aerei sulla Rep...</td>\n",
       "      <td>« Hegel nota in un passo delle sue opere che t...</td>\n",
       "      <td>9360</td>\n",
       "      <td>IT</td>\n",
       "      <td>2016-03-24</td>\n",
       "      <td>28060</td>\n",
       "      <td>150</td>\n",
       "      <td>PT44S</td>\n",
       "      <td>it</td>\n",
       "      <td>https://en.wikipedia.org/wiki/Society</td>\n",
       "      <td>27</td>\n",
       "      <td>undefined</td>\n",
       "    </tr>\n",
       "    <tr>\n",
       "      <th>3</th>\n",
       "      <td>France Culture</td>\n",
       "      <td>https://i.ytimg.com/vi/1b7SaihlnVk/hqdefault.jpg</td>\n",
       "      <td>25 ans de Tribunal pour l'ex-Yougoslavie : bil...</td>\n",
       "      <td>https://www.youtube.com/watch?v=1b7SaihlnVk</td>\n",
       "      <td>En savoir plus : https://www.franceculture.fr/...</td>\n",
       "      <td>France Culture, c'est une radio de service pub...</td>\n",
       "      <td>355000</td>\n",
       "      <td>FR</td>\n",
       "      <td>2017-11-30</td>\n",
       "      <td>11236</td>\n",
       "      <td>110</td>\n",
       "      <td>PT3M19S</td>\n",
       "      <td>fr</td>\n",
       "      <td>https://en.wikipedia.org/wiki/Politics,https:/...</td>\n",
       "      <td>25</td>\n",
       "      <td>Ex Yougoslavie,TPIY,justice,justice internatio...</td>\n",
       "    </tr>\n",
       "    <tr>\n",
       "      <th>4</th>\n",
       "      <td>Visão Libertária</td>\n",
       "      <td>https://i.ytimg.com/vi/9bd8F8sCisc/hqdefault.jpg</td>\n",
       "      <td>A Economia da antiga Iugoslávia</td>\n",
       "      <td>https://www.youtube.com/watch?v=9bd8F8sCisc</td>\n",
       "      <td>Artigo: https://visaolibertaria.com/article/03...</td>\n",
       "      <td>Como será seu estilo de vida daqui a 30 anos, ...</td>\n",
       "      <td>421000</td>\n",
       "      <td>BR</td>\n",
       "      <td>2021-08-26</td>\n",
       "      <td>22627</td>\n",
       "      <td>4142</td>\n",
       "      <td>PT9M11S</td>\n",
       "      <td>pt</td>\n",
       "      <td>https://en.wikipedia.org/wiki/Society</td>\n",
       "      <td>25</td>\n",
       "      <td>iugoslávia,iugoslavia,croácia,croacia,macedôni...</td>\n",
       "    </tr>\n",
       "  </tbody>\n",
       "</table>\n",
       "</div>"
      ],
      "text/plain": [
       "              Channel                                         Thumbnail  \\\n",
       "0            12jul TV  https://i.ytimg.com/vi/fK4HH8Hrk8U/hqdefault.jpg   \n",
       "1  Anjobi Videoarchiv  https://i.ytimg.com/vi/-WNQ-gale34/hqdefault.jpg   \n",
       "2       Paolo Favarin  https://i.ytimg.com/vi/yw2NnMu2qR0/hqdefault.jpg   \n",
       "3      France Culture  https://i.ytimg.com/vi/1b7SaihlnVk/hqdefault.jpg   \n",
       "4    Visão Libertária  https://i.ytimg.com/vi/9bd8F8sCisc/hqdefault.jpg   \n",
       "\n",
       "                                         Video Title  \\\n",
       "0      (2.Dünya Savaşı)Yugoslavya'nın İşgali(Harita)   \n",
       "1  2021-06-25 16_Friedrich Orter über den Jugosla...   \n",
       "2       24 marzo 1999 la nato bombarda la Jugoslavia   \n",
       "3  25 ans de Tribunal pour l'ex-Yougoslavie : bil...   \n",
       "4                    A Economia da antiga Iugoslávia   \n",
       "\n",
       "                                     Video URL  \\\n",
       "0  https://www.youtube.com/watch?v=fK4HH8Hrk8U   \n",
       "1  https://www.youtube.com/watch?v=-WNQ-gale34   \n",
       "2  https://www.youtube.com/watch?v=yw2NnMu2qR0   \n",
       "3  https://www.youtube.com/watch?v=1b7SaihlnVk   \n",
       "4  https://www.youtube.com/watch?v=9bd8F8sCisc   \n",
       "\n",
       "                                   Video Description  \\\n",
       "0  (2.Dünya Savaşı)Yugoslavya'nın İşgali(Harita)\\...   \n",
       "1  Teil der Playlist: https://youtube.com/playlis...   \n",
       "2  La Nato inizia i bombardamenti aerei sulla Rep...   \n",
       "3  En savoir plus : https://www.franceculture.fr/...   \n",
       "4  Artigo: https://visaolibertaria.com/article/03...   \n",
       "\n",
       "                                 Channel Description  Subscribers Country  \\\n",
       "0  Araştırmalara dayalı, çeşitli kaynaklardan bes...        24500      TR   \n",
       "1  Videoinhalte zu Politik & Wahlen.\\nDie Nationa...         4040      AT   \n",
       "2  « Hegel nota in un passo delle sue opere che t...         9360      IT   \n",
       "3  France Culture, c'est une radio de service pub...       355000      FR   \n",
       "4  Como será seu estilo de vida daqui a 30 anos, ...       421000      BR   \n",
       "\n",
       "  Date of Publishing  Views  Likes Duration Language  \\\n",
       "0         2016-03-12  14602    162  PT1M16S       tr   \n",
       "1         2021-06-28    226      2  PT7M56S       de   \n",
       "2         2016-03-24  28060    150    PT44S       it   \n",
       "3         2017-11-30  11236    110  PT3M19S       fr   \n",
       "4         2021-08-26  22627   4142  PT9M11S       pt   \n",
       "\n",
       "                                               Topic  Category Id  \\\n",
       "0              https://en.wikipedia.org/wiki/Society           27   \n",
       "1              https://en.wikipedia.org/wiki/Society           25   \n",
       "2              https://en.wikipedia.org/wiki/Society           27   \n",
       "3  https://en.wikipedia.org/wiki/Politics,https:/...           25   \n",
       "4              https://en.wikipedia.org/wiki/Society           25   \n",
       "\n",
       "                                                Tags  \n",
       "0  Yugoslavya Cephesi,Yugoslavya`nın dağılması,Yu...  \n",
       "1                                          undefined  \n",
       "2                                          undefined  \n",
       "3  Ex Yougoslavie,TPIY,justice,justice internatio...  \n",
       "4  iugoslávia,iugoslavia,croácia,croacia,macedôni...  "
      ]
     },
     "execution_count": 3,
     "metadata": {},
     "output_type": "execute_result"
    }
   ],
   "source": [
    "#Displaying first 5 rows of the dataset.\n",
    "\n",
    "data.head(5)"
   ]
  },
  {
   "cell_type": "code",
   "execution_count": 4,
   "id": "792d73a8",
   "metadata": {},
   "outputs": [
    {
     "name": "stdout",
     "output_type": "stream",
     "text": [
      "<class 'pandas.core.frame.DataFrame'>\n",
      "RangeIndex: 79 entries, 0 to 78\n",
      "Data columns (total 16 columns):\n",
      " #   Column               Non-Null Count  Dtype         \n",
      "---  ------               --------------  -----         \n",
      " 0   Channel              79 non-null     object        \n",
      " 1   Thumbnail            79 non-null     object        \n",
      " 2   Video Title          79 non-null     object        \n",
      " 3   Video URL            79 non-null     object        \n",
      " 4   Video Description    78 non-null     object        \n",
      " 5   Channel Description  73 non-null     object        \n",
      " 6   Subscribers          79 non-null     int64         \n",
      " 7   Country              79 non-null     object        \n",
      " 8   Date of Publishing   79 non-null     datetime64[ns]\n",
      " 9   Views                79 non-null     int64         \n",
      " 10  Likes                79 non-null     int64         \n",
      " 11  Duration             79 non-null     object        \n",
      " 12  Language             79 non-null     object        \n",
      " 13  Topic                79 non-null     object        \n",
      " 14  Category Id          79 non-null     int64         \n",
      " 15  Tags                 79 non-null     object        \n",
      "dtypes: datetime64[ns](1), int64(4), object(11)\n",
      "memory usage: 10.0+ KB\n"
     ]
    }
   ],
   "source": [
    "#Getting the basic info from the dataset, check the type of data.\n",
    "\n",
    "data.info()"
   ]
  },
  {
   "cell_type": "code",
   "execution_count": 5,
   "id": "9853f5f7",
   "metadata": {},
   "outputs": [
    {
     "name": "stderr",
     "output_type": "stream",
     "text": [
      "<ipython-input-5-7fbc048f4c9d>:3: FutureWarning: Treating datetime data as categorical rather than numeric in `.describe` is deprecated and will be removed in a future version of pandas. Specify `datetime_is_numeric=True` to silence this warning and adopt the future behavior now.\n",
      "  data.describe(include='all')\n"
     ]
    },
    {
     "data": {
      "text/html": [
       "<div>\n",
       "<style scoped>\n",
       "    .dataframe tbody tr th:only-of-type {\n",
       "        vertical-align: middle;\n",
       "    }\n",
       "\n",
       "    .dataframe tbody tr th {\n",
       "        vertical-align: top;\n",
       "    }\n",
       "\n",
       "    .dataframe thead th {\n",
       "        text-align: right;\n",
       "    }\n",
       "</style>\n",
       "<table border=\"1\" class=\"dataframe\">\n",
       "  <thead>\n",
       "    <tr style=\"text-align: right;\">\n",
       "      <th></th>\n",
       "      <th>Channel</th>\n",
       "      <th>Thumbnail</th>\n",
       "      <th>Video Title</th>\n",
       "      <th>Video URL</th>\n",
       "      <th>Video Description</th>\n",
       "      <th>Channel Description</th>\n",
       "      <th>Subscribers</th>\n",
       "      <th>Country</th>\n",
       "      <th>Date of Publishing</th>\n",
       "      <th>Views</th>\n",
       "      <th>Likes</th>\n",
       "      <th>Duration</th>\n",
       "      <th>Language</th>\n",
       "      <th>Topic</th>\n",
       "      <th>Category Id</th>\n",
       "      <th>Tags</th>\n",
       "    </tr>\n",
       "  </thead>\n",
       "  <tbody>\n",
       "    <tr>\n",
       "      <th>count</th>\n",
       "      <td>79</td>\n",
       "      <td>79</td>\n",
       "      <td>79</td>\n",
       "      <td>79</td>\n",
       "      <td>78</td>\n",
       "      <td>73</td>\n",
       "      <td>7.900000e+01</td>\n",
       "      <td>79</td>\n",
       "      <td>79</td>\n",
       "      <td>7.900000e+01</td>\n",
       "      <td>7.900000e+01</td>\n",
       "      <td>79</td>\n",
       "      <td>79</td>\n",
       "      <td>79</td>\n",
       "      <td>79.000000</td>\n",
       "      <td>79</td>\n",
       "    </tr>\n",
       "    <tr>\n",
       "      <th>unique</th>\n",
       "      <td>67</td>\n",
       "      <td>79</td>\n",
       "      <td>79</td>\n",
       "      <td>79</td>\n",
       "      <td>78</td>\n",
       "      <td>62</td>\n",
       "      <td>NaN</td>\n",
       "      <td>22</td>\n",
       "      <td>74</td>\n",
       "      <td>NaN</td>\n",
       "      <td>NaN</td>\n",
       "      <td>73</td>\n",
       "      <td>16</td>\n",
       "      <td>5</td>\n",
       "      <td>NaN</td>\n",
       "      <td>71</td>\n",
       "    </tr>\n",
       "    <tr>\n",
       "      <th>top</th>\n",
       "      <td>NOS</td>\n",
       "      <td>https://i.ytimg.com/vi/fK4HH8Hrk8U/hqdefault.jpg</td>\n",
       "      <td>(2.Dünya Savaşı)Yugoslavya'nın İşgali(Harita)</td>\n",
       "      <td>https://www.youtube.com/watch?v=fK4HH8Hrk8U</td>\n",
       "      <td>(2.Dünya Savaşı)Yugoslavya'nın İşgali(Harita)\\...</td>\n",
       "      <td>De NOS is de grootste nieuwsorganisatie van Ne...</td>\n",
       "      <td>NaN</td>\n",
       "      <td>NL</td>\n",
       "      <td>2020-11-09 00:00:00</td>\n",
       "      <td>NaN</td>\n",
       "      <td>NaN</td>\n",
       "      <td>PT7M56S</td>\n",
       "      <td>en</td>\n",
       "      <td>https://en.wikipedia.org/wiki/Society</td>\n",
       "      <td>NaN</td>\n",
       "      <td>undefined</td>\n",
       "    </tr>\n",
       "    <tr>\n",
       "      <th>freq</th>\n",
       "      <td>3</td>\n",
       "      <td>1</td>\n",
       "      <td>1</td>\n",
       "      <td>1</td>\n",
       "      <td>1</td>\n",
       "      <td>3</td>\n",
       "      <td>NaN</td>\n",
       "      <td>11</td>\n",
       "      <td>2</td>\n",
       "      <td>NaN</td>\n",
       "      <td>NaN</td>\n",
       "      <td>2</td>\n",
       "      <td>23</td>\n",
       "      <td>44</td>\n",
       "      <td>NaN</td>\n",
       "      <td>9</td>\n",
       "    </tr>\n",
       "    <tr>\n",
       "      <th>first</th>\n",
       "      <td>NaN</td>\n",
       "      <td>NaN</td>\n",
       "      <td>NaN</td>\n",
       "      <td>NaN</td>\n",
       "      <td>NaN</td>\n",
       "      <td>NaN</td>\n",
       "      <td>NaN</td>\n",
       "      <td>NaN</td>\n",
       "      <td>2011-05-26 00:00:00</td>\n",
       "      <td>NaN</td>\n",
       "      <td>NaN</td>\n",
       "      <td>NaN</td>\n",
       "      <td>NaN</td>\n",
       "      <td>NaN</td>\n",
       "      <td>NaN</td>\n",
       "      <td>NaN</td>\n",
       "    </tr>\n",
       "    <tr>\n",
       "      <th>last</th>\n",
       "      <td>NaN</td>\n",
       "      <td>NaN</td>\n",
       "      <td>NaN</td>\n",
       "      <td>NaN</td>\n",
       "      <td>NaN</td>\n",
       "      <td>NaN</td>\n",
       "      <td>NaN</td>\n",
       "      <td>NaN</td>\n",
       "      <td>2022-06-18 00:00:00</td>\n",
       "      <td>NaN</td>\n",
       "      <td>NaN</td>\n",
       "      <td>NaN</td>\n",
       "      <td>NaN</td>\n",
       "      <td>NaN</td>\n",
       "      <td>NaN</td>\n",
       "      <td>NaN</td>\n",
       "    </tr>\n",
       "    <tr>\n",
       "      <th>mean</th>\n",
       "      <td>NaN</td>\n",
       "      <td>NaN</td>\n",
       "      <td>NaN</td>\n",
       "      <td>NaN</td>\n",
       "      <td>NaN</td>\n",
       "      <td>NaN</td>\n",
       "      <td>1.348772e+06</td>\n",
       "      <td>NaN</td>\n",
       "      <td>NaN</td>\n",
       "      <td>2.912740e+05</td>\n",
       "      <td>1.031794e+06</td>\n",
       "      <td>NaN</td>\n",
       "      <td>NaN</td>\n",
       "      <td>NaN</td>\n",
       "      <td>25.962025</td>\n",
       "      <td>NaN</td>\n",
       "    </tr>\n",
       "    <tr>\n",
       "      <th>std</th>\n",
       "      <td>NaN</td>\n",
       "      <td>NaN</td>\n",
       "      <td>NaN</td>\n",
       "      <td>NaN</td>\n",
       "      <td>NaN</td>\n",
       "      <td>NaN</td>\n",
       "      <td>4.482488e+06</td>\n",
       "      <td>NaN</td>\n",
       "      <td>NaN</td>\n",
       "      <td>6.493192e+05</td>\n",
       "      <td>5.196738e+06</td>\n",
       "      <td>NaN</td>\n",
       "      <td>NaN</td>\n",
       "      <td>NaN</td>\n",
       "      <td>1.005664</td>\n",
       "      <td>NaN</td>\n",
       "    </tr>\n",
       "    <tr>\n",
       "      <th>min</th>\n",
       "      <td>NaN</td>\n",
       "      <td>NaN</td>\n",
       "      <td>NaN</td>\n",
       "      <td>NaN</td>\n",
       "      <td>NaN</td>\n",
       "      <td>NaN</td>\n",
       "      <td>1.270000e+03</td>\n",
       "      <td>NaN</td>\n",
       "      <td>NaN</td>\n",
       "      <td>1.330000e+02</td>\n",
       "      <td>0.000000e+00</td>\n",
       "      <td>NaN</td>\n",
       "      <td>NaN</td>\n",
       "      <td>NaN</td>\n",
       "      <td>25.000000</td>\n",
       "      <td>NaN</td>\n",
       "    </tr>\n",
       "    <tr>\n",
       "      <th>25%</th>\n",
       "      <td>NaN</td>\n",
       "      <td>NaN</td>\n",
       "      <td>NaN</td>\n",
       "      <td>NaN</td>\n",
       "      <td>NaN</td>\n",
       "      <td>NaN</td>\n",
       "      <td>4.780000e+04</td>\n",
       "      <td>NaN</td>\n",
       "      <td>NaN</td>\n",
       "      <td>8.100500e+03</td>\n",
       "      <td>1.460000e+02</td>\n",
       "      <td>NaN</td>\n",
       "      <td>NaN</td>\n",
       "      <td>NaN</td>\n",
       "      <td>25.000000</td>\n",
       "      <td>NaN</td>\n",
       "    </tr>\n",
       "    <tr>\n",
       "      <th>50%</th>\n",
       "      <td>NaN</td>\n",
       "      <td>NaN</td>\n",
       "      <td>NaN</td>\n",
       "      <td>NaN</td>\n",
       "      <td>NaN</td>\n",
       "      <td>NaN</td>\n",
       "      <td>2.240000e+05</td>\n",
       "      <td>NaN</td>\n",
       "      <td>NaN</td>\n",
       "      <td>3.151300e+04</td>\n",
       "      <td>1.114000e+03</td>\n",
       "      <td>NaN</td>\n",
       "      <td>NaN</td>\n",
       "      <td>NaN</td>\n",
       "      <td>25.000000</td>\n",
       "      <td>NaN</td>\n",
       "    </tr>\n",
       "    <tr>\n",
       "      <th>75%</th>\n",
       "      <td>NaN</td>\n",
       "      <td>NaN</td>\n",
       "      <td>NaN</td>\n",
       "      <td>NaN</td>\n",
       "      <td>NaN</td>\n",
       "      <td>NaN</td>\n",
       "      <td>6.345000e+05</td>\n",
       "      <td>NaN</td>\n",
       "      <td>NaN</td>\n",
       "      <td>1.921340e+05</td>\n",
       "      <td>5.318000e+03</td>\n",
       "      <td>NaN</td>\n",
       "      <td>NaN</td>\n",
       "      <td>NaN</td>\n",
       "      <td>27.000000</td>\n",
       "      <td>NaN</td>\n",
       "    </tr>\n",
       "    <tr>\n",
       "      <th>max</th>\n",
       "      <td>NaN</td>\n",
       "      <td>NaN</td>\n",
       "      <td>NaN</td>\n",
       "      <td>NaN</td>\n",
       "      <td>NaN</td>\n",
       "      <td>NaN</td>\n",
       "      <td>2.702200e+07</td>\n",
       "      <td>NaN</td>\n",
       "      <td>NaN</td>\n",
       "      <td>3.119509e+06</td>\n",
       "      <td>2.702200e+07</td>\n",
       "      <td>NaN</td>\n",
       "      <td>NaN</td>\n",
       "      <td>NaN</td>\n",
       "      <td>27.000000</td>\n",
       "      <td>NaN</td>\n",
       "    </tr>\n",
       "  </tbody>\n",
       "</table>\n",
       "</div>"
      ],
      "text/plain": [
       "       Channel                                         Thumbnail  \\\n",
       "count       79                                                79   \n",
       "unique      67                                                79   \n",
       "top        NOS  https://i.ytimg.com/vi/fK4HH8Hrk8U/hqdefault.jpg   \n",
       "freq         3                                                 1   \n",
       "first      NaN                                               NaN   \n",
       "last       NaN                                               NaN   \n",
       "mean       NaN                                               NaN   \n",
       "std        NaN                                               NaN   \n",
       "min        NaN                                               NaN   \n",
       "25%        NaN                                               NaN   \n",
       "50%        NaN                                               NaN   \n",
       "75%        NaN                                               NaN   \n",
       "max        NaN                                               NaN   \n",
       "\n",
       "                                          Video Title  \\\n",
       "count                                              79   \n",
       "unique                                             79   \n",
       "top     (2.Dünya Savaşı)Yugoslavya'nın İşgali(Harita)   \n",
       "freq                                                1   \n",
       "first                                             NaN   \n",
       "last                                              NaN   \n",
       "mean                                              NaN   \n",
       "std                                               NaN   \n",
       "min                                               NaN   \n",
       "25%                                               NaN   \n",
       "50%                                               NaN   \n",
       "75%                                               NaN   \n",
       "max                                               NaN   \n",
       "\n",
       "                                          Video URL  \\\n",
       "count                                            79   \n",
       "unique                                           79   \n",
       "top     https://www.youtube.com/watch?v=fK4HH8Hrk8U   \n",
       "freq                                              1   \n",
       "first                                           NaN   \n",
       "last                                            NaN   \n",
       "mean                                            NaN   \n",
       "std                                             NaN   \n",
       "min                                             NaN   \n",
       "25%                                             NaN   \n",
       "50%                                             NaN   \n",
       "75%                                             NaN   \n",
       "max                                             NaN   \n",
       "\n",
       "                                        Video Description  \\\n",
       "count                                                  78   \n",
       "unique                                                 78   \n",
       "top     (2.Dünya Savaşı)Yugoslavya'nın İşgali(Harita)\\...   \n",
       "freq                                                    1   \n",
       "first                                                 NaN   \n",
       "last                                                  NaN   \n",
       "mean                                                  NaN   \n",
       "std                                                   NaN   \n",
       "min                                                   NaN   \n",
       "25%                                                   NaN   \n",
       "50%                                                   NaN   \n",
       "75%                                                   NaN   \n",
       "max                                                   NaN   \n",
       "\n",
       "                                      Channel Description   Subscribers  \\\n",
       "count                                                  73  7.900000e+01   \n",
       "unique                                                 62           NaN   \n",
       "top     De NOS is de grootste nieuwsorganisatie van Ne...           NaN   \n",
       "freq                                                    3           NaN   \n",
       "first                                                 NaN           NaN   \n",
       "last                                                  NaN           NaN   \n",
       "mean                                                  NaN  1.348772e+06   \n",
       "std                                                   NaN  4.482488e+06   \n",
       "min                                                   NaN  1.270000e+03   \n",
       "25%                                                   NaN  4.780000e+04   \n",
       "50%                                                   NaN  2.240000e+05   \n",
       "75%                                                   NaN  6.345000e+05   \n",
       "max                                                   NaN  2.702200e+07   \n",
       "\n",
       "       Country   Date of Publishing         Views         Likes Duration  \\\n",
       "count       79                   79  7.900000e+01  7.900000e+01       79   \n",
       "unique      22                   74           NaN           NaN       73   \n",
       "top         NL  2020-11-09 00:00:00           NaN           NaN  PT7M56S   \n",
       "freq        11                    2           NaN           NaN        2   \n",
       "first      NaN  2011-05-26 00:00:00           NaN           NaN      NaN   \n",
       "last       NaN  2022-06-18 00:00:00           NaN           NaN      NaN   \n",
       "mean       NaN                  NaN  2.912740e+05  1.031794e+06      NaN   \n",
       "std        NaN                  NaN  6.493192e+05  5.196738e+06      NaN   \n",
       "min        NaN                  NaN  1.330000e+02  0.000000e+00      NaN   \n",
       "25%        NaN                  NaN  8.100500e+03  1.460000e+02      NaN   \n",
       "50%        NaN                  NaN  3.151300e+04  1.114000e+03      NaN   \n",
       "75%        NaN                  NaN  1.921340e+05  5.318000e+03      NaN   \n",
       "max        NaN                  NaN  3.119509e+06  2.702200e+07      NaN   \n",
       "\n",
       "       Language                                  Topic  Category Id       Tags  \n",
       "count        79                                     79    79.000000         79  \n",
       "unique       16                                      5          NaN         71  \n",
       "top          en  https://en.wikipedia.org/wiki/Society          NaN  undefined  \n",
       "freq         23                                     44          NaN          9  \n",
       "first       NaN                                    NaN          NaN        NaN  \n",
       "last        NaN                                    NaN          NaN        NaN  \n",
       "mean        NaN                                    NaN    25.962025        NaN  \n",
       "std         NaN                                    NaN     1.005664        NaN  \n",
       "min         NaN                                    NaN    25.000000        NaN  \n",
       "25%         NaN                                    NaN    25.000000        NaN  \n",
       "50%         NaN                                    NaN    25.000000        NaN  \n",
       "75%         NaN                                    NaN    27.000000        NaN  \n",
       "max         NaN                                    NaN    27.000000        NaN  "
      ]
     },
     "execution_count": 5,
     "metadata": {},
     "output_type": "execute_result"
    }
   ],
   "source": [
    "#Calculating the summary statistics of the dataset.\n",
    "\n",
    "data.describe(include='all')"
   ]
  },
  {
   "cell_type": "markdown",
   "id": "110d1b23",
   "metadata": {},
   "source": [
    "### Subscribers "
   ]
  },
  {
   "cell_type": "code",
   "execution_count": 6,
   "id": "879e1475",
   "metadata": {},
   "outputs": [
    {
     "data": {
      "text/plain": [
       "1348771.670886076"
      ]
     },
     "execution_count": 6,
     "metadata": {},
     "output_type": "execute_result"
    }
   ],
   "source": [
    "# Checking the averige amount of subscribers\n",
    "\n",
    "data['Subscribers'].mean()"
   ]
  },
  {
   "cell_type": "markdown",
   "id": "f6de7750",
   "metadata": {},
   "source": [
    "### Likes "
   ]
  },
  {
   "cell_type": "code",
   "execution_count": 7,
   "id": "5cf1495a",
   "metadata": {},
   "outputs": [
    {
     "data": {
      "text/plain": [
       "1031793.6075949367"
      ]
     },
     "execution_count": 7,
     "metadata": {},
     "output_type": "execute_result"
    }
   ],
   "source": [
    "# Checking the averige amount of likes\n",
    "\n",
    "data['Likes'].mean()"
   ]
  },
  {
   "cell_type": "markdown",
   "id": "25070ac3",
   "metadata": {},
   "source": [
    "### Views"
   ]
  },
  {
   "cell_type": "code",
   "execution_count": 8,
   "id": "42efb7c3",
   "metadata": {},
   "outputs": [
    {
     "data": {
      "text/plain": [
       "291273.9873417721"
      ]
     },
     "execution_count": 8,
     "metadata": {},
     "output_type": "execute_result"
    }
   ],
   "source": [
    "# Checking the averige amount of views\n",
    "\n",
    "data['Views'].mean()"
   ]
  },
  {
   "cell_type": "markdown",
   "id": "acb08f3a",
   "metadata": {},
   "source": [
    "### Topics "
   ]
  },
  {
   "cell_type": "code",
   "execution_count": 9,
   "id": "df10635e",
   "metadata": {},
   "outputs": [
    {
     "data": {
      "text/plain": [
       "https://en.wikipedia.org/wiki/Society                                                                                  44\n",
       "https://en.wikipedia.org/wiki/Politics,https://en.wikipedia.org/wiki/Society                                           20\n",
       "https://en.wikipedia.org/wiki/Knowledge                                                                                12\n",
       "https://en.wikipedia.org/wiki/Religion,https://en.wikipedia.org/wiki/Society                                            2\n",
       "https://en.wikipedia.org/wiki/Politics,https://en.wikipedia.org/wiki/Religion,https://en.wikipedia.org/wiki/Society     1\n",
       "Name: Topic, dtype: int64"
      ]
     },
     "execution_count": 9,
     "metadata": {},
     "output_type": "execute_result"
    }
   ],
   "source": [
    "# Checking how many unique topics there are in the dataset\n",
    "\n",
    "data['Topic'].value_counts()"
   ]
  },
  {
   "cell_type": "markdown",
   "id": "8d7f8aec",
   "metadata": {},
   "source": [
    "### Channels "
   ]
  },
  {
   "cell_type": "code",
   "execution_count": 10,
   "id": "3a724e5d",
   "metadata": {},
   "outputs": [
    {
     "data": {
      "text/plain": [
       "NOS                             3\n",
       "NOS Jeugdjournaal               3\n",
       "Slavier                         2\n",
       "France Culture                  2\n",
       "reVisão                         2\n",
       "                               ..\n",
       "Martin Vrijland                 1\n",
       "Periskopi                       1\n",
       "Anjobi Videoarchiv              1\n",
       "Aleksi Rantamaa - Yle Kioski    1\n",
       "Memorias de Pez                 1\n",
       "Name: Channel, Length: 67, dtype: int64"
      ]
     },
     "execution_count": 10,
     "metadata": {},
     "output_type": "execute_result"
    }
   ],
   "source": [
    "# Checking how mant unique channels there are in the dataset\n",
    "\n",
    "data['Channel'].value_counts()"
   ]
  },
  {
   "cell_type": "markdown",
   "id": "dd5624af",
   "metadata": {},
   "source": [
    "### Languages"
   ]
  },
  {
   "cell_type": "code",
   "execution_count": 11,
   "id": "2aff2000",
   "metadata": {
    "scrolled": true
   },
   "outputs": [
    {
     "data": {
      "text/plain": [
       "en           23\n",
       "nl           12\n",
       "fr            9\n",
       "pt            7\n",
       "tr            5\n",
       "de            5\n",
       "it            4\n",
       "sr            3\n",
       "sv            2\n",
       "sq            2\n",
       "undefined     2\n",
       "fi            1\n",
       "hr            1\n",
       "uz            1\n",
       "ru            1\n",
       "es            1\n",
       "Name: Language, dtype: int64"
      ]
     },
     "execution_count": 11,
     "metadata": {},
     "output_type": "execute_result"
    }
   ],
   "source": [
    "# Checking how many unique languages there are in the dataset\n",
    "\n",
    "data['Language'].value_counts()"
   ]
  },
  {
   "cell_type": "code",
   "execution_count": 12,
   "id": "40a17901",
   "metadata": {},
   "outputs": [
    {
     "data": {
      "text/plain": [
       "en    23\n",
       "nl    12\n",
       "fr     9\n",
       "pt     7\n",
       "tr     5\n",
       "Name: Language, dtype: int64"
      ]
     },
     "execution_count": 12,
     "metadata": {},
     "output_type": "execute_result"
    }
   ],
   "source": [
    "# Checking the top 5 most used languages for videos in the dataset\n",
    "\n",
    "data['Language'].value_counts()[:5]"
   ]
  },
  {
   "cell_type": "code",
   "execution_count": 13,
   "id": "73d0fc2c",
   "metadata": {},
   "outputs": [
    {
     "data": {
      "text/plain": [
       "<AxesSubplot:title={'center':'Most Frequent Languages'}>"
      ]
     },
     "execution_count": 13,
     "metadata": {},
     "output_type": "execute_result"
    },
    {
     "data": {
      "image/png": "[encoded data removed]",
      "text/plain": [
       "<Figure size 432x288 with 1 Axes>"
      ]
     },
     "metadata": {
      "needs_background": "light"
     },
     "output_type": "display_data"
    }
   ],
   "source": [
    "# Visualisation of the data representing the most frequent languages used in the collected YouTube videos.\n",
    "\n",
    "data['Language'].value_counts()[:5].plot(kind='bar', title='Most Frequent Languages')"
   ]
  },
  {
   "cell_type": "markdown",
   "id": "76016a61",
   "metadata": {},
   "source": [
    "### Country "
   ]
  },
  {
   "cell_type": "code",
   "execution_count": 14,
   "id": "160ff2c5",
   "metadata": {},
   "outputs": [
    {
     "data": {
      "text/plain": [
       "NL           11\n",
       "undefined     9\n",
       "FR            7\n",
       "BR            7\n",
       "US            7\n",
       "GB            6\n",
       "TR            5\n",
       "DE            5\n",
       "IT            4\n",
       "RS            4\n",
       "AL            2\n",
       "KR            2\n",
       "BA            1\n",
       "RU            1\n",
       "RO            1\n",
       "JP            1\n",
       "AU            1\n",
       "SE            1\n",
       "FI            1\n",
       "AT            1\n",
       "CA            1\n",
       "ES            1\n",
       "Name: Country, dtype: int64"
      ]
     },
     "execution_count": 14,
     "metadata": {},
     "output_type": "execute_result"
    }
   ],
   "source": [
    "#Counting the 'Country' values.\n",
    "\n",
    "data['Country'].value_counts()"
   ]
  },
  {
   "cell_type": "code",
   "execution_count": 15,
   "id": "b37dbdde",
   "metadata": {},
   "outputs": [
    {
     "data": {
      "text/plain": [
       "<AxesSubplot:title={'center':'Most Frequent Nationality'}>"
      ]
     },
     "execution_count": 15,
     "metadata": {},
     "output_type": "execute_result"
    },
    {
     "data": {
      "image/png": "[encoded data removed]",
      "text/plain": [
       "<Figure size 432x288 with 1 Axes>"
      ]
     },
     "metadata": {
      "needs_background": "light"
     },
     "output_type": "display_data"
    }
   ],
   "source": [
    "# Visualisation of the data representing the most frequent nationalities found in the collected YouTube videos  dataset.\n",
    "\n",
    "data['Country'].value_counts()[:5].plot(kind='bar', title='Most Frequent Nationality')"
   ]
  },
  {
   "cell_type": "markdown",
   "id": "4ac30f33",
   "metadata": {},
   "source": [
    "### 3. For english speaking videos, where do they come from? "
   ]
  },
  {
   "cell_type": "code",
   "execution_count": 16,
   "id": "6fc3e649",
   "metadata": {},
   "outputs": [],
   "source": [
    "english_filter = data['Language'] == 'en'"
   ]
  },
  {
   "cell_type": "code",
   "execution_count": 17,
   "id": "9c0cdb0a",
   "metadata": {},
   "outputs": [],
   "source": [
    "english = data[english_filter]"
   ]
  },
  {
   "cell_type": "code",
   "execution_count": 18,
   "id": "3eeb807c",
   "metadata": {},
   "outputs": [
    {
     "data": {
      "text/plain": [
       "GB           6\n",
       "US           6\n",
       "undefined    3\n",
       "KR           2\n",
       "DE           1\n",
       "AU           1\n",
       "RS           1\n",
       "AL           1\n",
       "JP           1\n",
       "RO           1\n",
       "Name: Country, dtype: int64"
      ]
     },
     "execution_count": 18,
     "metadata": {},
     "output_type": "execute_result"
    }
   ],
   "source": [
    "english['Country'].value_counts()"
   ]
  },
  {
   "cell_type": "code",
   "execution_count": 19,
   "id": "51a1d1e0",
   "metadata": {},
   "outputs": [
    {
     "data": {
      "text/plain": [
       "<AxesSubplot:title={'center':'Nationality VS English Language'}, ylabel='Country'>"
      ]
     },
     "execution_count": 19,
     "metadata": {},
     "output_type": "execute_result"
    },
    {
     "data": {
      "image/png": "[encoded data removed]",
      "text/plain": [
       "<Figure size 720x720 with 1 Axes>"
      ]
     },
     "metadata": {},
     "output_type": "display_data"
    }
   ],
   "source": [
    "english['Country'].value_counts().plot(kind='pie', figsize=(10,10), title='Nationality VS English Language')"
   ]
  },
  {
   "cell_type": "markdown",
   "id": "21b47f9f",
   "metadata": {},
   "source": [
    "### 2.The videos with english content also received more attention in terms of views and rating; averige views per language"
   ]
  },
  {
   "cell_type": "code",
   "execution_count": 20,
   "id": "4ee9875f",
   "metadata": {},
   "outputs": [
    {
     "data": {
      "text/plain": [
       "Language\n",
       "es           813518.000000\n",
       "en           698019.782609\n",
       "sr           697735.333333\n",
       "undefined    275957.500000\n",
       "de           181680.400000\n",
       "tr           137203.600000\n",
       "nl            79719.250000\n",
       "fi            70025.000000\n",
       "pt            53487.285714\n",
       "hr            51426.000000\n",
       "it            44323.000000\n",
       "ru            43492.000000\n",
       "fr            21435.555556\n",
       "sv            11829.500000\n",
       "sq             5526.500000\n",
       "uz             2222.000000\n",
       "Name: Views, dtype: float64"
      ]
     },
     "execution_count": 20,
     "metadata": {},
     "output_type": "execute_result"
    }
   ],
   "source": [
    "data.groupby('Language')['Views'].mean().sort_values(ascending=False) #averige views per language"
   ]
  },
  {
   "cell_type": "code",
   "execution_count": 21,
   "id": "a8c12c9d",
   "metadata": {},
   "outputs": [
    {
     "data": {
      "text/plain": [
       "<AxesSubplot:title={'center':'Relation Between Views an Language'}, xlabel='Language'>"
      ]
     },
     "execution_count": 21,
     "metadata": {},
     "output_type": "execute_result"
    },
    {
     "data": {
      "image/png": "[encoded data removed]",
      "text/plain": [
       "<Figure size 432x288 with 1 Axes>"
      ]
     },
     "metadata": {
      "needs_background": "light"
     },
     "output_type": "display_data"
    }
   ],
   "source": [
    "data.groupby('Language')['Views'].count()\\\n",
    ".sort_values(ascending=False).plot(kind='bar', title='Relation Between Views an Language')"
   ]
  },
  {
   "cell_type": "code",
   "execution_count": 22,
   "id": "b00992ae",
   "metadata": {},
   "outputs": [
    {
     "data": {
      "text/plain": [
       "Language\n",
       "fr           3.002780e+06\n",
       "nl           2.252969e+06\n",
       "en           1.186942e+06\n",
       "es           2.762500e+04\n",
       "sr           1.648633e+04\n",
       "pt           5.224000e+03\n",
       "tr           3.273800e+03\n",
       "fi           2.711000e+03\n",
       "undefined    2.684000e+03\n",
       "de           1.926400e+03\n",
       "it           6.627500e+02\n",
       "ru           4.960000e+02\n",
       "hr           2.890000e+02\n",
       "sv           7.900000e+01\n",
       "uz           1.900000e+01\n",
       "sq           1.550000e+01\n",
       "Name: Likes, dtype: float64"
      ]
     },
     "execution_count": 22,
     "metadata": {},
     "output_type": "execute_result"
    }
   ],
   "source": [
    "data.groupby('Language')['Likes'].mean().sort_values(ascending=False) #in terms of likes, videos in French language predominate"
   ]
  },
  {
   "cell_type": "code",
   "execution_count": 23,
   "id": "1fd15902",
   "metadata": {},
   "outputs": [
    {
     "data": {
      "text/plain": [
       "<AxesSubplot:title={'center':'Relation Between Language an Likes'}, xlabel='Language'>"
      ]
     },
     "execution_count": 23,
     "metadata": {},
     "output_type": "execute_result"
    },
    {
     "data": {
      "image/png": "[encoded data removed]",
      "text/plain": [
       "<Figure size 432x288 with 1 Axes>"
      ]
     },
     "metadata": {
      "needs_background": "light"
     },
     "output_type": "display_data"
    }
   ],
   "source": [
    "data.groupby('Language')['Likes'].count()\\\n",
    ".sort_values(ascending=False).plot(kind='bar', title='Relation Between Language an Likes')"
   ]
  },
  {
   "cell_type": "markdown",
   "id": "ea718bdc",
   "metadata": {},
   "source": [
    "### category distribution"
   ]
  },
  {
   "cell_type": "code",
   "execution_count": 24,
   "id": "932fc782",
   "metadata": {},
   "outputs": [
    {
     "data": {
      "text/plain": [
       "25    41\n",
       "27    38\n",
       "Name: Category Id, dtype: int64"
      ]
     },
     "execution_count": 24,
     "metadata": {},
     "output_type": "execute_result"
    }
   ],
   "source": [
    "data['Category Id'].value_counts()"
   ]
  },
  {
   "cell_type": "code",
   "execution_count": 25,
   "id": "f8112ab7",
   "metadata": {},
   "outputs": [
    {
     "data": {
      "text/plain": [
       "<AxesSubplot:title={'center':'Distribution between categories'}>"
      ]
     },
     "execution_count": 25,
     "metadata": {},
     "output_type": "execute_result"
    },
    {
     "data": {
      "image/png": "[encoded data removed]",
      "text/plain": [
       "<Figure size 432x288 with 1 Axes>"
      ]
     },
     "metadata": {
      "needs_background": "light"
     },
     "output_type": "display_data"
    }
   ],
   "source": [
    "data['Category Id'].value_counts()[:5].plot(kind='bar', title='Distribution between categories')"
   ]
  },
  {
   "cell_type": "markdown",
   "id": "6eb3e4e7",
   "metadata": {},
   "source": [
    "### Is there a relation between subscribers and language?\n"
   ]
  },
  {
   "cell_type": "code",
   "execution_count": 26,
   "id": "0ad1b95b",
   "metadata": {},
   "outputs": [
    {
     "data": {
      "text/plain": [
       "Language\n",
       "hr           2.702200e+07\n",
       "en           2.476036e+06\n",
       "es           1.370000e+06\n",
       "sq           7.379050e+05\n",
       "pt           6.576000e+05\n",
       "fr           5.932822e+05\n",
       "tr           5.011000e+05\n",
       "uz           4.990000e+05\n",
       "undefined    3.162950e+05\n",
       "sr           3.000000e+05\n",
       "nl           2.883158e+05\n",
       "de           2.567680e+05\n",
       "fi           2.040000e+05\n",
       "sv           1.284000e+05\n",
       "ru           1.190000e+04\n",
       "it           1.004250e+04\n",
       "Name: Subscribers, dtype: float64"
      ]
     },
     "execution_count": 26,
     "metadata": {},
     "output_type": "execute_result"
    }
   ],
   "source": [
    "data.groupby('Language')['Subscribers'].mean().sort_values(ascending=False) #in terms of subscibers channels with videos in vietnameese language predominate"
   ]
  },
  {
   "cell_type": "code",
   "execution_count": 28,
   "id": "a4774be0",
   "metadata": {},
   "outputs": [
    {
     "data": {
      "text/plain": [
       "<AxesSubplot:title={'center':'Number of Subscribers and Language in YouTube Videos Per Channel'}, xlabel='Language'>"
      ]
     },
     "execution_count": 28,
     "metadata": {},
     "output_type": "execute_result"
    },
    {
     "data": {
      "image/png": "[encoded data removed]",
      "text/plain": [
       "<Figure size 432x288 with 1 Axes>"
      ]
     },
     "metadata": {
      "needs_background": "light"
     },
     "output_type": "display_data"
    }
   ],
   "source": [
    "data.groupby('Language')['Subscribers'].count()\\\n",
    ".sort_values(ascending=False).plot(kind='bar', title='Number of Subscribers and Language in YouTube Videos Per Channel')"
   ]
  },
  {
   "cell_type": "code",
   "execution_count": null,
   "id": "4b9039c2",
   "metadata": {},
   "outputs": [],
   "source": []
  },
  {
   "cell_type": "code",
   "execution_count": null,
   "id": "6da544c7",
   "metadata": {},
   "outputs": [],
   "source": []
  }
 ],
 "metadata": {
  "kernelspec": {
   "display_name": "Python 3",
   "language": "python",
   "name": "python3"
  },
  "language_info": {
   "codemirror_mode": {
    "name": "ipython",
    "version": 3
   },
   "file_extension": ".py",
   "mimetype": "text/x-python",
   "name": "python",
   "nbconvert_exporter": "python",
   "pygments_lexer": "ipython3",
   "version": "3.8.8"
  }
 },
 "nbformat": 4,
 "nbformat_minor": 5
}
